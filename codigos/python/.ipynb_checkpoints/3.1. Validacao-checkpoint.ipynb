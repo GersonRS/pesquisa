{
 "cells": [
  {
   "cell_type": "code",
   "execution_count": 1,
   "metadata": {},
   "outputs": [
    {
     "data": {
      "application/javascript": [
       "IPython.notebook.set_autosave_interval(0)"
      ]
     },
     "metadata": {},
     "output_type": "display_data"
    },
    {
     "name": "stdout",
     "output_type": "stream",
     "text": [
      "Autosave disabled\n"
     ]
    }
   ],
   "source": [
    "%autosave 0"
   ]
  },
  {
   "cell_type": "markdown",
   "metadata": {},
   "source": [
    "# Validação do Modelo\n",
    "**O que você vai ver neste módulo?**:\n",
    "- <a href=\"#1\">Por que é necessário validar nosso modelo?</a>\n",
    "- <a href=\"#2\">Técnica 1: Extrair um pedaço da base de treino e usar como base de teste</a>\n",
    "- <a href=\"#3\">Técnica 2: Cross-validation</a>\n",
    "- <a href=\"#4\">Técnica 3: Confusion Matrix</a>\n",
    "- <a href=\"#5\">Técnica 4: Adversarial Validation</a>"
   ]
  },
  {
   "cell_type": "markdown",
   "metadata": {},
   "source": [
    "## Por que é necessário validar nosso modelo? <a name='1' />\n",
    "\n",
    "> Você não pode melhorar o que você não consegue medir\n",
    "\n",
    "O objetivo é identificar como o nosso modelo se comporta, recebendo um feedback para saber se você está indo no caminho certo.\n",
    "\n",
    "**Validação do seu modelo é algo que você deve se preocupar desde o início, antes mesmo de iniciar um processo mais profundo de análise dos dados.**"
   ]
  },
  {
   "cell_type": "markdown",
   "metadata": {},
   "source": [
    "Vamos utilizar a base do Titanic novamente. Para facilitar o nosso trabalho, iremos utilizar uma base com as features já preparadas indo direto ao ponto."
   ]
  },
  {
   "cell_type": "code",
   "execution_count": 2,
   "metadata": {},
   "outputs": [],
   "source": [
    "import pandas as pd\n",
    "\n",
    "# Carregando os dados de treinamento e de testes já limpos e preparados\n",
    "train_df = pd.read_csv('../data/titanic/train_clean.csv')\n",
    "test_df = pd.read_csv('../data/titanic/test_clean.csv')"
   ]
  },
  {
   "cell_type": "code",
   "execution_count": 3,
   "metadata": {},
   "outputs": [
    {
     "data": {
      "text/html": [
       "<div>\n",
       "<table border=\"1\" class=\"dataframe\">\n",
       "  <thead>\n",
       "    <tr style=\"text-align: right;\">\n",
       "      <th></th>\n",
       "      <th>PassengerId</th>\n",
       "      <th>Survived</th>\n",
       "      <th>Pclass</th>\n",
       "      <th>Sex</th>\n",
       "      <th>Age</th>\n",
       "      <th>SibSp</th>\n",
       "      <th>Parch</th>\n",
       "      <th>Fare</th>\n",
       "      <th>Embarked</th>\n",
       "      <th>Title</th>\n",
       "      <th>FamilySize</th>\n",
       "      <th>IsAlone</th>\n",
       "      <th>FareCat</th>\n",
       "    </tr>\n",
       "  </thead>\n",
       "  <tbody>\n",
       "    <tr>\n",
       "      <th>0</th>\n",
       "      <td>1</td>\n",
       "      <td>0</td>\n",
       "      <td>3</td>\n",
       "      <td>0</td>\n",
       "      <td>22</td>\n",
       "      <td>1</td>\n",
       "      <td>0</td>\n",
       "      <td>7.2500</td>\n",
       "      <td>1</td>\n",
       "      <td>1</td>\n",
       "      <td>2</td>\n",
       "      <td>0</td>\n",
       "      <td>1</td>\n",
       "    </tr>\n",
       "    <tr>\n",
       "      <th>1</th>\n",
       "      <td>2</td>\n",
       "      <td>1</td>\n",
       "      <td>1</td>\n",
       "      <td>1</td>\n",
       "      <td>38</td>\n",
       "      <td>1</td>\n",
       "      <td>0</td>\n",
       "      <td>71.2833</td>\n",
       "      <td>2</td>\n",
       "      <td>3</td>\n",
       "      <td>2</td>\n",
       "      <td>0</td>\n",
       "      <td>4</td>\n",
       "    </tr>\n",
       "    <tr>\n",
       "      <th>2</th>\n",
       "      <td>3</td>\n",
       "      <td>1</td>\n",
       "      <td>3</td>\n",
       "      <td>1</td>\n",
       "      <td>26</td>\n",
       "      <td>0</td>\n",
       "      <td>0</td>\n",
       "      <td>7.9250</td>\n",
       "      <td>1</td>\n",
       "      <td>2</td>\n",
       "      <td>1</td>\n",
       "      <td>1</td>\n",
       "      <td>2</td>\n",
       "    </tr>\n",
       "  </tbody>\n",
       "</table>\n",
       "</div>"
      ],
      "text/plain": [
       "   PassengerId  Survived  Pclass  Sex  Age  SibSp  Parch     Fare  Embarked  \\\n",
       "0            1         0       3    0   22      1      0   7.2500         1   \n",
       "1            2         1       1    1   38      1      0  71.2833         2   \n",
       "2            3         1       3    1   26      0      0   7.9250         1   \n",
       "\n",
       "   Title  FamilySize  IsAlone  FareCat  \n",
       "0      1           2        0        1  \n",
       "1      3           2        0        4  \n",
       "2      2           1        1        2  "
      ]
     },
     "execution_count": 3,
     "metadata": {},
     "output_type": "execute_result"
    }
   ],
   "source": [
    "train_df.head(3)"
   ]
  },
  {
   "cell_type": "code",
   "execution_count": 4,
   "metadata": {},
   "outputs": [
    {
     "data": {
      "text/html": [
       "<div>\n",
       "<table border=\"1\" class=\"dataframe\">\n",
       "  <thead>\n",
       "    <tr style=\"text-align: right;\">\n",
       "      <th></th>\n",
       "      <th>PassengerId</th>\n",
       "      <th>Pclass</th>\n",
       "      <th>Sex</th>\n",
       "      <th>Age</th>\n",
       "      <th>SibSp</th>\n",
       "      <th>Parch</th>\n",
       "      <th>Fare</th>\n",
       "      <th>Embarked</th>\n",
       "      <th>Title</th>\n",
       "      <th>FamilySize</th>\n",
       "      <th>IsAlone</th>\n",
       "      <th>FareCat</th>\n",
       "    </tr>\n",
       "  </thead>\n",
       "  <tbody>\n",
       "    <tr>\n",
       "      <th>0</th>\n",
       "      <td>892</td>\n",
       "      <td>3</td>\n",
       "      <td>0</td>\n",
       "      <td>34</td>\n",
       "      <td>0</td>\n",
       "      <td>0</td>\n",
       "      <td>7.8292</td>\n",
       "      <td>3</td>\n",
       "      <td>1.0</td>\n",
       "      <td>1</td>\n",
       "      <td>1</td>\n",
       "      <td>1</td>\n",
       "    </tr>\n",
       "    <tr>\n",
       "      <th>1</th>\n",
       "      <td>893</td>\n",
       "      <td>3</td>\n",
       "      <td>1</td>\n",
       "      <td>47</td>\n",
       "      <td>1</td>\n",
       "      <td>0</td>\n",
       "      <td>7.0000</td>\n",
       "      <td>1</td>\n",
       "      <td>3.0</td>\n",
       "      <td>2</td>\n",
       "      <td>0</td>\n",
       "      <td>1</td>\n",
       "    </tr>\n",
       "    <tr>\n",
       "      <th>2</th>\n",
       "      <td>894</td>\n",
       "      <td>2</td>\n",
       "      <td>0</td>\n",
       "      <td>62</td>\n",
       "      <td>0</td>\n",
       "      <td>0</td>\n",
       "      <td>9.6875</td>\n",
       "      <td>3</td>\n",
       "      <td>1.0</td>\n",
       "      <td>1</td>\n",
       "      <td>1</td>\n",
       "      <td>2</td>\n",
       "    </tr>\n",
       "  </tbody>\n",
       "</table>\n",
       "</div>"
      ],
      "text/plain": [
       "   PassengerId  Pclass  Sex  Age  SibSp  Parch    Fare  Embarked  Title  \\\n",
       "0          892       3    0   34      0      0  7.8292         3    1.0   \n",
       "1          893       3    1   47      1      0  7.0000         1    3.0   \n",
       "2          894       2    0   62      0      0  9.6875         3    1.0   \n",
       "\n",
       "   FamilySize  IsAlone  FareCat  \n",
       "0           1        1        1  \n",
       "1           2        0        1  \n",
       "2           1        1        2  "
      ]
     },
     "execution_count": 4,
     "metadata": {},
     "output_type": "execute_result"
    }
   ],
   "source": [
    "test_df.head(3)"
   ]
  },
  {
   "cell_type": "code",
   "execution_count": 5,
   "metadata": {},
   "outputs": [
    {
     "data": {
      "text/plain": [
       "0.98204264870931535"
      ]
     },
     "execution_count": 5,
     "metadata": {},
     "output_type": "execute_result"
    }
   ],
   "source": [
    "# Vamos carregar as informacoes de treino e teste para \n",
    "X_train = train_df.drop([\"Survived\", \"PassengerId\"], axis=1)\n",
    "Y_train = train_df[\"Survived\"]\n",
    "X_test  = test_df.drop(\"PassengerId\", axis=1).copy()\n",
    "\n",
    "# Criamos nosso RandomForestClassifier com 100 estimadores\n",
    "from sklearn.ensemble import RandomForestClassifier\n",
    "random_forest = RandomForestClassifier(n_estimators=100, random_state=0)\n",
    "random_forest.fit(X_train, Y_train)\n",
    "\n",
    "# Vamos fazer a validação do score utilizando a propria base de treinamento\n",
    "random_forest.score(X_train, Y_train)"
   ]
  },
  {
   "cell_type": "markdown",
   "metadata": {},
   "source": [
    "Podemos ver que o score está bastante alto. Porém estamos validando com os mesmos dados utilizados para o modelo aprender, isso é o suficiente para que o modelo se saia bem todas as vezes.\n",
    "\n",
    "Porém, este número nos diz alguma coisa? Será que nosso modelo está realmente bom o suficiente? Como será que ele se sairia com novos dados?"
   ]
  },
  {
   "cell_type": "markdown",
   "metadata": {},
   "source": [
    "## Técnica 1: Extrair um pedaço da base de treino e usar como base de teste<a name='1' />"
   ]
  },
  {
   "cell_type": "code",
   "execution_count": 6,
   "metadata": {},
   "outputs": [],
   "source": [
    "from sklearn.model_selection import ShuffleSplit"
   ]
  },
  {
   "cell_type": "code",
   "execution_count": 7,
   "metadata": {},
   "outputs": [
    {
     "name": "stdout",
     "output_type": "stream",
     "text": [
      "[140 439 817 378 491 331 588 358 674 162 580 402 671 875 727 428  54  45\n",
      " 172 447 597 204 240 672  39 283 308  18 769 156 482 210 647  50 852 239\n",
      " 646 122 788 167 306 379 742  10 105  68 253 320 706 271 424 752 615   2\n",
      " 882 467 403 258 720 272 154 832 820 382  20 585  65 680 878 304 823 521\n",
      " 333 698 481  71  49 573 338 261 116  76  48 843 263 718 620 786  64 857\n",
      "  52 386 124 578 549 118  12 157 127 653 235 785 241 351 862 851 753 532\n",
      " 485 695 475  17 476 533 416 345 242 344 170 187 800 457 652 451  78 889\n",
      " 198 492 813 526 870  21 885 799 250 243 701  35  81 159 744 524 109 337\n",
      " 443  92 364 434 465 731 876 211 811 165 238 188 471 553 456 366 592 738\n",
      " 155 391 886 724 453  66 841 408 462 268 161 363 406 866 881 618 100 722\n",
      " 678 229 334 558 669 807 520 816 220 810 309 688 787  15 245 409   6 452\n",
      " 441 479 104 303 650 208 302  51  90 354 563  22 374 825 218 657 422 420\n",
      " 460 205 529 190 361 735 375 185 194 401 436 583 132 233 173 178 313 315\n",
      " 713 859 864 206 557 493  96 527 761 572  74  89  38 179 506   0  46 171\n",
      " 392 710 518 782 107 626 133 806 223 603 327 827 102 625 108 213 586 499\n",
      " 821 246 861 546 125 135 466 640 691 661 435 365 721 224  26 772 571 417\n",
      " 497 628 765 670   3 134 325 355 812 186 682 295 743 548 385 576 702 873\n",
      " 798 427 225 729 330 369 605 332 339 419 687 860 737 844 454 404 415  63\n",
      " 604 888 478 360 237 703 855 112 884 569 126 259 662 630 137   7 502 759\n",
      " 622 853 407 613 353 153 343 789 790 733  56 400 473 468 795 593 504 568\n",
      " 577 300 716 590 163 336  59 730 828 490 767 449 624 437 641 793 219 602\n",
      " 282 348 608   4 717 463 689 584 781 517 794 534 831 276 284 470 426 281\n",
      " 120 872  13 582 455 856 160 868 601 636 664 195 191 536 164 106  16 575\n",
      " 805 540 329 480 498 801 405 665  93 433  83 749 692 414 869 651 649 809\n",
      " 322 556 357  69 514 509 340 221 824 146 289  29 114 508 792 863 176 168\n",
      " 347 376 679 775 757 685 189 136 446 746 254 783 290 834 751 232 645  33\n",
      "  88  44 341  61 846 199 429 667 394 297  73 393 547 579 541 758 741 747\n",
      " 663 217 539 736 623 668 732 421 138 212 616 748 745 770 814 234  67  24\n",
      " 381 216 129 349 111 166 207 438 552 274 879 591 711 525 287 469 326 121\n",
      " 507 228 673 595 445 117 464  25 110 149 152 528 696 621 461 598 139 260\n",
      " 323 865 248 450 410 607  19 328 296 269 226  94 515 637 280 286 589 826\n",
      " 444 184 371 776 867 275 829 182  32  80 307  11  43  86  36 871  58  41\n",
      " 411 562 209 148 739 594 123 734 574  98 377 130 699  23 773 555 370 512\n",
      " 383 201 368 554 610 387 292 690 256 606 197  95 854 836 169 581 305 560\n",
      " 373 719 791 227 660 143 180 131 842  47 774 324 203  84 633 565 611 398\n",
      "  91  82 430 779 119 291  57 321 257 840 442  42 617 388 335 273 756 488\n",
      " 550  53 830 128 802  28 183 459 510 675 151 244 714 543 544 639 697 265\n",
      " 288 423 147 659 797 858 177  99 850 448 431 847 709 755 115 777  72 845\n",
      " 537 677 849 874 174  87 551 486 705 314 396 600 472  70 599 804 754 277\n",
      " 723   9 359 707 763 835 192 629 559 684] [495 648 278  31 255 298 609 318 484 367 704 346 196 535 310  14 350 145\n",
      " 614 803 144 708 778 270 474 319 519 141 880 642 285 458 200  55 477 632\n",
      " 818 883 666 317 587 693 538 686 230 101 656 311 808 262 740  97 750 566\n",
      " 839 655 252 542 819 301  60 567 496 766   8 890 796 848 530 887 316 712\n",
      "  34  77 676 726  27  30 202 181 768 489 312 764 397 627 380 483 516 505\n",
      " 815 877 193 523 634 531 247 266 694 681 683 249 715 175 251 279 399 638\n",
      " 728 612 771 356 838 564 390 635 142 700 561 440 643   5 725 822 103 487\n",
      " 522 267 413 150 501 494 784 113 545  37 214  40 236 658 342 412 511 654\n",
      " 596 293 418 432 299 158  62  79 503 231 389 619 362 570 264 644 384 762\n",
      " 513  85 352  75 631 395 294 500 222   1 425 760 780 837 215 833 372]\n"
     ]
    }
   ],
   "source": [
    "ss = ShuffleSplit(n_splits=1, test_size=0.20, random_state=0)\n",
    "for index, (train_index, test_index) in enumerate(ss.split(X_train)):\n",
    "    print(\"%s %s\" % (train_index, test_index))"
   ]
  },
  {
   "cell_type": "code",
   "execution_count": 8,
   "metadata": {},
   "outputs": [
    {
     "data": {
      "text/plain": [
       "array([[  3.,   1.,  21., ...,   3.,   0.,   3.],\n",
       "       [  2.,   0.,  31., ...,   1.,   1.,   2.],\n",
       "       [  2.,   0.,  31., ...,   3.,   0.,   4.],\n",
       "       ..., \n",
       "       [  3.,   0.,  25., ...,   1.,   1.,   1.],\n",
       "       [  3.,   1.,  36., ...,   2.,   0.,   3.],\n",
       "       [  2.,   0.,  60., ...,   3.,   0.,   4.]])"
      ]
     },
     "execution_count": 8,
     "metadata": {},
     "output_type": "execute_result"
    }
   ],
   "source": [
    "X_train.values[train_index]"
   ]
  },
  {
   "cell_type": "code",
   "execution_count": 9,
   "metadata": {},
   "outputs": [
    {
     "name": "stdout",
     "output_type": "stream",
     "text": [
      "0.843575418994\n"
     ]
    }
   ],
   "source": [
    "ss = ShuffleSplit(n_splits=1, test_size=0.20, random_state=0)\n",
    "for train_index, test_index in ss.split(X_train):\n",
    "    # Treinar somente com os 80% da base de treinamento\n",
    "    random_forest.fit(X_train.values[train_index], Y_train.values[train_index])\n",
    "\n",
    "    # Extrair o score a partir dos outros 20%\n",
    "    print(random_forest.score(X_train.values[test_index], Y_train.values[test_index]))"
   ]
  },
  {
   "cell_type": "markdown",
   "metadata": {},
   "source": [
    "## Técnica 2: Cross-Validation<a name='3' />"
   ]
  },
  {
   "cell_type": "code",
   "execution_count": 10,
   "metadata": {},
   "outputs": [
    {
     "name": "stdout",
     "output_type": "stream",
     "text": [
      "0.843575418994\n",
      "0.759776536313\n",
      "0.804469273743\n",
      "0.787709497207\n",
      "0.843575418994\n"
     ]
    },
    {
     "data": {
      "text/plain": [
       "0.80782122905027942"
      ]
     },
     "execution_count": 10,
     "metadata": {},
     "output_type": "execute_result"
    }
   ],
   "source": [
    "# Numero de vezes que iremos fazer o ciclo\n",
    "folds = 5\n",
    "final_score = 0\n",
    "\n",
    "# Chamamos a funcao do SkLearn com o ShuffleSplit passando o numero de folds\n",
    "ss = ShuffleSplit(n_splits=folds, test_size=0.20, random_state=0)\n",
    "for train_index, test_index in ss.split(X_train):\n",
    "    # Treinar somente com os 80% da base de treinamento\n",
    "    random_forest.fit(X_train.values[train_index], Y_train.values[train_index])\n",
    "\n",
    "    # Extrair o score a partir dos outros 20%\n",
    "    score = random_forest.score(X_train.values[test_index], Y_train.values[test_index])\n",
    "    print(score)\n",
    "    \n",
    "    final_score += score\n",
    "\n",
    "# O score final será a media de todos os folds\n",
    "final_score = final_score / folds\n",
    "final_score"
   ]
  },
  {
   "cell_type": "markdown",
   "metadata": {},
   "source": [
    "## Técnica 3: Confusion Matrix <a name='4' />"
   ]
  },
  {
   "cell_type": "code",
   "execution_count": 11,
   "metadata": {},
   "outputs": [
    {
     "name": "stdout",
     "output_type": "stream",
     "text": [
      "Positive/Positive (OK): 100\n",
      "Positive/Negativo (ER): 10\n",
      "Negativo/Positivo (ER): 18\n",
      "Negativo/Negativo (OK): 18\n"
     ]
    },
    {
     "data": {
      "text/plain": [
       "array([[100,  10],\n",
       "       [ 18,  51]])"
      ]
     },
     "execution_count": 11,
     "metadata": {},
     "output_type": "execute_result"
    }
   ],
   "source": [
    "from sklearn.metrics import confusion_matrix\n",
    "\n",
    "# Vamos pegar apenas 80% da base e usar os outros 20% como testes para ficar mais facil de exemplificar \n",
    "# (se usarmos tudo dá 100% de acerto)\n",
    "ss = ShuffleSplit(n_splits=1, test_size=0.20, random_state=0)\n",
    "for train_index, test_index in ss.split(X_train):\n",
    "    random_forest.fit(X_train.values[train_index], Y_train.values[train_index])\n",
    "    \n",
    "    y_pred = random_forest.predict(X_train.values[test_index])\n",
    "    y_true = Y_train.values[test_index]\n",
    "    \n",
    "    result = confusion_matrix(y_true, y_pred)\n",
    "\n",
    "print('Positive/Positive (OK):', result[0][0])\n",
    "print('Positive/Negativo (ER):', result[0][1])\n",
    "print('Negativo/Positivo (ER):', result[1][0])\n",
    "print('Negativo/Negativo (OK):', result[1][0])\n",
    "result"
   ]
  },
  {
   "cell_type": "markdown",
   "metadata": {},
   "source": [
    "## Técnica 4: Adversarial Validation <a name='4' />"
   ]
  },
  {
   "cell_type": "markdown",
   "metadata": {},
   "source": [
    "Esta técnica pode ser utilizada quando as bases disponíveis para testes é significativamente diferente da base disponível para treinamento. Em algumas situações isso pode acontecer.\n",
    "\n",
    "Isso foi muito comentado em uma competição do Santander no Kaggle e também em uma outra competição que tem se tornado popular chamada <a href=\"http://www.numerai.com\">Numerai</a>\n",
    "\n",
    "Mas o que isso significa? Significa que os scores dos nossos modelos que temos no treinamento são significativamente diferentes dos scores quando nós subimos nossos resultados para os servidores. \n",
    "\n",
    "Em competições isso pode acontecer e no mundo real também! Então vale a pena gastarmos um tempo nesta técnica relativamente simples e que pode ajudar muito o nosso processo."
   ]
  },
  {
   "cell_type": "code",
   "execution_count": 12,
   "metadata": {},
   "outputs": [
    {
     "name": "stdout",
     "output_type": "stream",
     "text": [
      "891 418 1309\n"
     ]
    }
   ],
   "source": [
    "# Vamos sinalizar a origem dos dados (0 para dados de treinamento e 1 para dados de testes)\n",
    "train_df['origin'] = 0\n",
    "test_df['origin'] = 1\n",
    "\n",
    "full_df = pd.concat((train_df.drop([\"Survived\", \"PassengerId\"], axis=1), test_df.drop(\"PassengerId\", axis=1)))\n",
    "print(len(train_df), len(test_df), len(full_df))"
   ]
  },
  {
   "cell_type": "markdown",
   "metadata": {},
   "source": [
    "Até agora, tudo bem... vamos ver como está a nossa nova base final para fazer o novo treinamento"
   ]
  },
  {
   "cell_type": "code",
   "execution_count": 13,
   "metadata": {},
   "outputs": [
    {
     "data": {
      "text/html": [
       "<div>\n",
       "<table border=\"1\" class=\"dataframe\">\n",
       "  <thead>\n",
       "    <tr style=\"text-align: right;\">\n",
       "      <th></th>\n",
       "      <th>Pclass</th>\n",
       "      <th>Sex</th>\n",
       "      <th>Age</th>\n",
       "      <th>SibSp</th>\n",
       "      <th>Parch</th>\n",
       "      <th>Fare</th>\n",
       "      <th>Embarked</th>\n",
       "      <th>Title</th>\n",
       "      <th>FamilySize</th>\n",
       "      <th>IsAlone</th>\n",
       "      <th>FareCat</th>\n",
       "      <th>origin</th>\n",
       "    </tr>\n",
       "  </thead>\n",
       "  <tbody>\n",
       "    <tr>\n",
       "      <th>0</th>\n",
       "      <td>3</td>\n",
       "      <td>0</td>\n",
       "      <td>22</td>\n",
       "      <td>1</td>\n",
       "      <td>0</td>\n",
       "      <td>7.2500</td>\n",
       "      <td>1</td>\n",
       "      <td>1.0</td>\n",
       "      <td>2</td>\n",
       "      <td>0</td>\n",
       "      <td>1</td>\n",
       "      <td>0</td>\n",
       "    </tr>\n",
       "    <tr>\n",
       "      <th>1</th>\n",
       "      <td>1</td>\n",
       "      <td>1</td>\n",
       "      <td>38</td>\n",
       "      <td>1</td>\n",
       "      <td>0</td>\n",
       "      <td>71.2833</td>\n",
       "      <td>2</td>\n",
       "      <td>3.0</td>\n",
       "      <td>2</td>\n",
       "      <td>0</td>\n",
       "      <td>4</td>\n",
       "      <td>0</td>\n",
       "    </tr>\n",
       "    <tr>\n",
       "      <th>2</th>\n",
       "      <td>3</td>\n",
       "      <td>1</td>\n",
       "      <td>26</td>\n",
       "      <td>0</td>\n",
       "      <td>0</td>\n",
       "      <td>7.9250</td>\n",
       "      <td>1</td>\n",
       "      <td>2.0</td>\n",
       "      <td>1</td>\n",
       "      <td>1</td>\n",
       "      <td>2</td>\n",
       "      <td>0</td>\n",
       "    </tr>\n",
       "    <tr>\n",
       "      <th>3</th>\n",
       "      <td>1</td>\n",
       "      <td>1</td>\n",
       "      <td>35</td>\n",
       "      <td>1</td>\n",
       "      <td>0</td>\n",
       "      <td>53.1000</td>\n",
       "      <td>1</td>\n",
       "      <td>3.0</td>\n",
       "      <td>2</td>\n",
       "      <td>0</td>\n",
       "      <td>4</td>\n",
       "      <td>0</td>\n",
       "    </tr>\n",
       "    <tr>\n",
       "      <th>4</th>\n",
       "      <td>3</td>\n",
       "      <td>0</td>\n",
       "      <td>35</td>\n",
       "      <td>0</td>\n",
       "      <td>0</td>\n",
       "      <td>8.0500</td>\n",
       "      <td>1</td>\n",
       "      <td>1.0</td>\n",
       "      <td>1</td>\n",
       "      <td>1</td>\n",
       "      <td>2</td>\n",
       "      <td>0</td>\n",
       "    </tr>\n",
       "  </tbody>\n",
       "</table>\n",
       "</div>"
      ],
      "text/plain": [
       "   Pclass  Sex  Age  SibSp  Parch     Fare  Embarked  Title  FamilySize  \\\n",
       "0       3    0   22      1      0   7.2500         1    1.0           2   \n",
       "1       1    1   38      1      0  71.2833         2    3.0           2   \n",
       "2       3    1   26      0      0   7.9250         1    2.0           1   \n",
       "3       1    1   35      1      0  53.1000         1    3.0           2   \n",
       "4       3    0   35      0      0   8.0500         1    1.0           1   \n",
       "\n",
       "   IsAlone  FareCat  origin  \n",
       "0        0        1       0  \n",
       "1        0        4       0  \n",
       "2        1        2       0  \n",
       "3        0        4       0  \n",
       "4        1        2       0  "
      ]
     },
     "execution_count": 13,
     "metadata": {},
     "output_type": "execute_result"
    }
   ],
   "source": [
    "full_df.head(5)"
   ]
  },
  {
   "cell_type": "code",
   "execution_count": 14,
   "metadata": {},
   "outputs": [
    {
     "data": {
      "text/html": [
       "<div>\n",
       "<table border=\"1\" class=\"dataframe\">\n",
       "  <thead>\n",
       "    <tr style=\"text-align: right;\">\n",
       "      <th></th>\n",
       "      <th>PassengerId</th>\n",
       "      <th>Survived</th>\n",
       "      <th>Pclass</th>\n",
       "      <th>Sex</th>\n",
       "      <th>Age</th>\n",
       "      <th>SibSp</th>\n",
       "      <th>Parch</th>\n",
       "      <th>Fare</th>\n",
       "      <th>Embarked</th>\n",
       "      <th>Title</th>\n",
       "      <th>FamilySize</th>\n",
       "      <th>IsAlone</th>\n",
       "      <th>FareCat</th>\n",
       "      <th>origin</th>\n",
       "    </tr>\n",
       "  </thead>\n",
       "  <tbody>\n",
       "    <tr>\n",
       "      <th>0</th>\n",
       "      <td>1</td>\n",
       "      <td>0</td>\n",
       "      <td>3</td>\n",
       "      <td>0</td>\n",
       "      <td>22</td>\n",
       "      <td>1</td>\n",
       "      <td>0</td>\n",
       "      <td>7.2500</td>\n",
       "      <td>1</td>\n",
       "      <td>1</td>\n",
       "      <td>2</td>\n",
       "      <td>0</td>\n",
       "      <td>1</td>\n",
       "      <td>0.100000</td>\n",
       "    </tr>\n",
       "    <tr>\n",
       "      <th>1</th>\n",
       "      <td>2</td>\n",
       "      <td>1</td>\n",
       "      <td>1</td>\n",
       "      <td>1</td>\n",
       "      <td>38</td>\n",
       "      <td>1</td>\n",
       "      <td>0</td>\n",
       "      <td>71.2833</td>\n",
       "      <td>2</td>\n",
       "      <td>3</td>\n",
       "      <td>2</td>\n",
       "      <td>0</td>\n",
       "      <td>4</td>\n",
       "      <td>0.200000</td>\n",
       "    </tr>\n",
       "    <tr>\n",
       "      <th>2</th>\n",
       "      <td>3</td>\n",
       "      <td>1</td>\n",
       "      <td>3</td>\n",
       "      <td>1</td>\n",
       "      <td>26</td>\n",
       "      <td>0</td>\n",
       "      <td>0</td>\n",
       "      <td>7.9250</td>\n",
       "      <td>1</td>\n",
       "      <td>2</td>\n",
       "      <td>1</td>\n",
       "      <td>1</td>\n",
       "      <td>2</td>\n",
       "      <td>0.063333</td>\n",
       "    </tr>\n",
       "  </tbody>\n",
       "</table>\n",
       "</div>"
      ],
      "text/plain": [
       "   PassengerId  Survived  Pclass  Sex  Age  SibSp  Parch     Fare  Embarked  \\\n",
       "0            1         0       3    0   22      1      0   7.2500         1   \n",
       "1            2         1       1    1   38      1      0  71.2833         2   \n",
       "2            3         1       3    1   26      0      0   7.9250         1   \n",
       "\n",
       "   Title  FamilySize  IsAlone  FareCat    origin  \n",
       "0      1           2        0        1  0.100000  \n",
       "1      3           2        0        4  0.200000  \n",
       "2      2           1        1        2  0.063333  "
      ]
     },
     "execution_count": 14,
     "metadata": {},
     "output_type": "execute_result"
    }
   ],
   "source": [
    "random_forest = RandomForestClassifier(n_estimators=100, random_state=0)\n",
    "random_forest.fit(full_df.drop('origin', axis=1), full_df['origin'])\n",
    "\n",
    "# Vamos usar o predict_proba que retorna a probabilidade de ser de origem de testes (mais proximo de 0 é treinamento, 1 é teste)\n",
    "train_df['origin'] = random_forest.predict_proba(X_train)[:, 1]\n",
    "\n",
    "train_df.head(3)"
   ]
  },
  {
   "cell_type": "code",
   "execution_count": 15,
   "metadata": {},
   "outputs": [],
   "source": [
    "# Vamos ordenar do menor para o maior (os que estiverem no final, foram confundidos com a base de testes)\n",
    "i = train_df['origin'].argsort()\n",
    "train_sorted = train_df.iloc[i]\n",
    "\n",
    "# Vamos tirar os 200 ultimos itens e considerar eles como base de testes\n",
    "validation_size = 200\n",
    "\n",
    "# Pronto agora pegamos o X_train, Y_train e o X_test baseado nos ultimos itens que se confundem com a base de testes ou não\n",
    "X_train = train_df.iloc[:-validation_size].drop([\"Survived\", \"PassengerId\"], axis=1)\n",
    "Y_train = train_df.iloc[:-validation_size][\"Survived\"]\n",
    "X_test  = train_df.iloc[-validation_size:].drop(\"PassengerId\", axis=1).copy()"
   ]
  }
 ],
 "metadata": {
  "kernelspec": {
   "display_name": "Python 2",
   "language": "python",
   "name": "python2"
  },
  "language_info": {
   "codemirror_mode": {
    "name": "ipython",
    "version": 2
   },
   "file_extension": ".py",
   "mimetype": "text/x-python",
   "name": "python",
   "nbconvert_exporter": "python",
   "pygments_lexer": "ipython2",
   "version": "2.7.15"
  }
 },
 "nbformat": 4,
 "nbformat_minor": 1
}
