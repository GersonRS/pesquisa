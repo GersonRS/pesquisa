{
 "cells": [
  {
   "cell_type": "code",
   "execution_count": 1,
   "metadata": {},
   "outputs": [],
   "source": [
    "import pandas as pd\n",
    "import numpy as np\n",
    "import matplotlib.pyplot as plt\n",
    "from sklearn.neural_network import MLPClassifier\n",
    "from sklearn.model_selection import train_test_split\n",
    "import seaborn as sns\n",
    "import scikitplot as skplt\n",
    "from sklearn.metrics import precision_recall_curve as prc\n",
    "from scipy import stats"
   ]
  },
  {
   "cell_type": "code",
   "execution_count": 2,
   "metadata": {},
   "outputs": [],
   "source": [
    "clf = MLPClassifier(solver='adam', alpha=0.0001, learning_rate='constant', learning_rate_init=0.01, max_iter=200,\n",
    "                       activation='logistic', momentum=0.9, verbose=False, tol=0.0001)"
   ]
  },
  {
   "cell_type": "code",
   "execution_count": 3,
   "metadata": {},
   "outputs": [],
   "source": [
    "df = pd.read_csv('dados 0001.csv',index_col='Unnamed: 0')"
   ]
  },
  {
   "cell_type": "code",
   "execution_count": 4,
   "metadata": {},
   "outputs": [],
   "source": [
    "target = pd.read_csv('target 0001.csv',index_col='Unnamed: 0')"
   ]
  },
  {
   "cell_type": "code",
   "execution_count": 5,
   "metadata": {},
   "outputs": [],
   "source": [
    "target['A'] = pd.to_numeric(target['A'])\n",
    "target['B'] = pd.to_numeric(target['B'])"
   ]
  },
  {
   "cell_type": "code",
   "execution_count": 6,
   "metadata": {},
   "outputs": [],
   "source": [
    "X_train, X_test, y_train, y_test = train_test_split(df, target, test_size=0.2, random_state=1)"
   ]
  },
  {
   "cell_type": "code",
   "execution_count": 7,
   "metadata": {},
   "outputs": [
    {
     "data": {
      "text/plain": [
       "MLPClassifier(activation='logistic', alpha=0.0001, batch_size='auto',\n",
       "       beta_1=0.9, beta_2=0.999, early_stopping=False, epsilon=1e-08,\n",
       "       hidden_layer_sizes=(100,), learning_rate='constant',\n",
       "       learning_rate_init=0.01, max_iter=200, momentum=0.9,\n",
       "       nesterovs_momentum=True, power_t=0.5, random_state=None,\n",
       "       shuffle=True, solver='adam', tol=0.0001, validation_fraction=0.1,\n",
       "       verbose=False, warm_start=False)"
      ]
     },
     "execution_count": 7,
     "metadata": {},
     "output_type": "execute_result"
    }
   ],
   "source": [
    "clf.fit(X_train, y_train)"
   ]
  },
  {
   "cell_type": "code",
   "execution_count": 8,
   "metadata": {},
   "outputs": [],
   "source": [
    "saidas = pd.DataFrame(clf.predict(X_test),columns=['A','B'])"
   ]
  },
  {
   "cell_type": "code",
   "execution_count": 9,
   "metadata": {},
   "outputs": [
    {
     "name": "stdout",
     "output_type": "stream",
     "text": [
      "-----------------------------------------------------------\n",
      "('Saida da rede: ',      A  B\n",
      "0    1  0\n",
      "1    0  1\n",
      "2    1  0\n",
      "3    1  0\n",
      "4    1  0\n",
      "5    1  0\n",
      "6    1  0\n",
      "7    1  0\n",
      "8    1  0\n",
      "9    0  1\n",
      "10   0  1\n",
      "11   1  0\n",
      "12   1  0\n",
      "13   0  1\n",
      "14   1  0\n",
      "15   1  0\n",
      "16   1  0\n",
      "17   1  0\n",
      "18   1  0\n",
      "19   1  0\n",
      "20   1  0\n",
      "21   0  1\n",
      "22   1  0\n",
      "23   0  1\n",
      "24   1  0\n",
      "25   1  0\n",
      "26   1  0\n",
      "27   1  0\n",
      "28   0  1\n",
      "29   1  0\n",
      "..  .. ..\n",
      "932  1  0\n",
      "933  1  0\n",
      "934  1  0\n",
      "935  1  0\n",
      "936  1  0\n",
      "937  1  0\n",
      "938  1  0\n",
      "939  1  0\n",
      "940  1  0\n",
      "941  1  0\n",
      "942  0  1\n",
      "943  1  0\n",
      "944  1  0\n",
      "945  1  0\n",
      "946  1  0\n",
      "947  1  0\n",
      "948  1  0\n",
      "949  1  0\n",
      "950  1  0\n",
      "951  1  0\n",
      "952  1  0\n",
      "953  0  1\n",
      "954  1  0\n",
      "955  1  0\n",
      "956  1  0\n",
      "957  1  0\n",
      "958  1  0\n",
      "959  1  0\n",
      "960  1  0\n",
      "961  1  0\n",
      "\n",
      "[962 rows x 2 columns])\n",
      "('Saida desejada: ',       A  B\n",
      "3228  0  1\n",
      "4142  0  1\n",
      "4691  0  1\n",
      "3682  0  1\n",
      "1891  1  0\n",
      "3853  0  1\n",
      "1999  1  0\n",
      "4232  0  1\n",
      "3978  0  1\n",
      "4267  0  1\n",
      "4116  0  1\n",
      "2385  1  0\n",
      "556   1  0\n",
      "3817  0  1\n",
      "3611  0  1\n",
      "3490  0  1\n",
      "3142  0  1\n",
      "3752  0  1\n",
      "2456  0  1\n",
      "4303  0  1\n",
      "2537  0  1\n",
      "3057  0  1\n",
      "2321  1  0\n",
      "4087  0  1\n",
      "1621  1  0\n",
      "636   1  0\n",
      "1725  1  0\n",
      "3154  0  1\n",
      "4340  0  1\n",
      "2068  1  0\n",
      "...  .. ..\n",
      "2769  0  1\n",
      "1344  1  0\n",
      "1772  1  0\n",
      "1785  1  0\n",
      "3468  0  1\n",
      "2229  1  0\n",
      "2739  0  1\n",
      "3516  0  1\n",
      "854   1  0\n",
      "643   1  0\n",
      "4289  0  1\n",
      "957   1  0\n",
      "1946  1  0\n",
      "2544  0  1\n",
      "3163  0  1\n",
      "2105  1  0\n",
      "2595  0  1\n",
      "613   1  0\n",
      "290   1  0\n",
      "4070  0  1\n",
      "2555  0  1\n",
      "3888  0  1\n",
      "3137  0  1\n",
      "2347  1  0\n",
      "2855  0  1\n",
      "1683  1  0\n",
      "1038  1  0\n",
      "2824  0  1\n",
      "1235  1  0\n",
      "3147  0  1\n",
      "\n",
      "[962 rows x 2 columns])\n",
      "-----------------------------------------------------------\n",
      "('Score: ', 0.5748440748440748)\n"
     ]
    }
   ],
   "source": [
    "print('-----------------------------------------------------------')\n",
    "\n",
    "print('Saida da rede: ', saidas)\n",
    "print('Saida desejada: ', y_test)\n",
    "\n",
    "print('-----------------------------------------------------------')\n",
    "\n",
    "print('Score: ', clf.score(X_test, y_test))"
   ]
  },
  {
   "cell_type": "code",
   "execution_count": 25,
   "metadata": {},
   "outputs": [
    {
     "name": "stdout",
     "output_type": "stream",
     "text": [
      "KstestResult(statistic=0.5, pvalue=0.0)\n"
     ]
    },
    {
     "data": {
      "image/png": "[encoded data removed]",
      "text/plain": [
       "<Figure size 432x288 with 1 Axes>"
      ]
     },
     "metadata": {},
     "output_type": "display_data"
    }
   ],
   "source": [
    "x = np.linspace(-15, 15, 9)\n",
    "print stats.kstest(saidas['B'], 'norm')\n",
    "plt.hist(x,bins=40)\n",
    "plt.show()"
   ]
  },
  {
   "cell_type": "code",
   "execution_count": 11,
   "metadata": {},
   "outputs": [],
   "source": [
    "np.random.seed(12345678)\n",
    "x = np.random.normal(0, 1, 1000)\n",
    "y = np.random.normal(0, 1, 1000)\n",
    "z = np.random.normal(1.1, 0.9, 1000)"
   ]
  },
  {
   "cell_type": "code",
   "execution_count": null,
   "metadata": {},
   "outputs": [],
   "source": []
  }
 ],
 "metadata": {
  "kernelspec": {
   "display_name": "Python 2",
   "language": "python",
   "name": "python2"
  },
  "language_info": {
   "codemirror_mode": {
    "name": "ipython",
    "version": 2
   },
   "file_extension": ".py",
   "mimetype": "text/x-python",
   "name": "python",
   "nbconvert_exporter": "python",
   "pygments_lexer": "ipython2",
   "version": "2.7.15"
  }
 },
 "nbformat": 4,
 "nbformat_minor": 2
}
