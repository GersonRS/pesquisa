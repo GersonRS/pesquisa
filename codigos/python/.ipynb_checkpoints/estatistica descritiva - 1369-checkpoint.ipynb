{
 "cells": [
  {
   "cell_type": "code",
   "execution_count": 1,
   "metadata": {},
   "outputs": [
    {
     "name": "stderr",
     "output_type": "stream",
     "text": [
      "C:\\Users\\Gerso\\Anaconda2\\lib\\site-packages\\h5py\\__init__.py:36: FutureWarning: Conversion of the second argument of issubdtype from `float` to `np.floating` is deprecated. In future, it will be treated as `np.float64 == np.dtype(float).type`.\n",
      "  from ._conv import register_converters as _register_converters\n"
     ]
    }
   ],
   "source": [
    "import pandas as pd\n",
    "import numpy as np\n",
    "import matplotlib.pyplot as plt\n",
    "import h5py"
   ]
  },
  {
   "cell_type": "code",
   "execution_count": 2,
   "metadata": {},
   "outputs": [],
   "source": [
    "f = h5py.File('simulation SXSBBH1369.h5', 'r')\n",
    "df = pd.DataFrame()"
   ]
  },
  {
   "cell_type": "code",
   "execution_count": 3,
   "metadata": {},
   "outputs": [],
   "source": [
    "for x in f.values():\n",
    "    dset = f[x.name].items()\n",
    "    data = pd.DataFrame(dset)\n",
    "    data = data.drop([38,61,64,1]).sort_values(0)\n",
    "    data.reset_index(drop = True, inplace = True)\n",
    "    names = data[0]\n",
    "    list = data[1]\n",
    "    for index, l in enumerate(list):\n",
    "        arr = np.zeros((14891,3), dtype='float64')\n",
    "        l.read_direct(arr)\n",
    "        list[index] = pd.DataFrame(arr).drop(0,axis=1).rename(index=str, columns={1: 'coluna_1', 2: 'coluna_2'})\n",
    "    data = data.rename(index=str, columns={1: x.name})\n",
    "    df[x.name] = data[x.name]"
   ]
  },
  {
   "cell_type": "code",
   "execution_count": 4,
   "metadata": {},
   "outputs": [],
   "source": [
    "describe = df.copy()\n",
    "for i in range(0,len(describe.columns)):\n",
    "    for j in range(0,len(describe[df.columns[i]])):\n",
    "        describe[df.columns[i]][j] = describe[df.columns[i]][j].describe().rename(\n",
    "            index={\n",
    "                'std': 'Desvio Padrão',\n",
    "                'mean': 'Média',\n",
    "                'count': 'Quantidade',\n",
    "                'min': 'Mínimo',\n",
    "                'max': 'Máximo',\n",
    "                '50%': 'Mediana'\n",
    "            })"
   ]
  },
  {
   "cell_type": "code",
   "execution_count": 5,
   "metadata": {},
   "outputs": [],
   "source": [
    "info_1 = pd.DataFrame()\n",
    "info_2 = pd.DataFrame()\n",
    "for a in describe[describe.columns[0]][0].index:\n",
    "    info_1[a] = 0\n",
    "    info_2[a] = 0"
   ]
  },
  {
   "cell_type": "code",
   "execution_count": 6,
   "metadata": {},
   "outputs": [],
   "source": [
    "for i in range(0,len(describe.columns)):\n",
    "    for j in range(0,len(describe[df.columns[i]])):\n",
    "        d_1 = pd.DataFrame(describe[describe.columns[i]][j]['coluna_1'])\n",
    "        d_1 = d_1.transpose()\n",
    "        d_1.reset_index(drop = True, inplace = True)\n",
    "        info_1 = info_1.append(d_1,ignore_index=True)\n",
    "        \n",
    "for i in range(0,len(describe.columns)):\n",
    "    for j in range(0,len(describe[df.columns[i]])):\n",
    "        d_2 = pd.DataFrame(describe[describe.columns[i]][j]['coluna_2'])\n",
    "        d_2 = d_2.transpose()\n",
    "        d_2.reset_index(drop = True, inplace = True)\n",
    "        info_2 = info_2.append(d_2,ignore_index=True)"
   ]
  },
  {
   "cell_type": "code",
   "execution_count": 7,
   "metadata": {},
   "outputs": [
    {
     "data": {
      "text/html": [
       "<div>\n",
       "<style scoped>\n",
       "    .dataframe tbody tr th:only-of-type {\n",
       "        vertical-align: middle;\n",
       "    }\n",
       "\n",
       "    .dataframe tbody tr th {\n",
       "        vertical-align: top;\n",
       "    }\n",
       "\n",
       "    .dataframe thead th {\n",
       "        text-align: right;\n",
       "    }\n",
       "</style>\n",
       "<table border=\"1\" class=\"dataframe\">\n",
       "  <thead>\n",
       "    <tr style=\"text-align: right;\">\n",
       "      <th></th>\n",
       "      <th>Mínimo_col1</th>\n",
       "      <th>Máximo_col1</th>\n",
       "      <th>Mínimo_col2</th>\n",
       "      <th>Máximo_col2</th>\n",
       "    </tr>\n",
       "  </thead>\n",
       "  <tbody>\n",
       "    <tr>\n",
       "      <th>Quantidade</th>\n",
       "      <td>1.489100e+04</td>\n",
       "      <td>14891.000000</td>\n",
       "      <td>1.489100e+04</td>\n",
       "      <td>14891.000000</td>\n",
       "    </tr>\n",
       "    <tr>\n",
       "      <th>Média</th>\n",
       "      <td>-6.552916e-04</td>\n",
       "      <td>0.003802</td>\n",
       "      <td>-8.140885e-04</td>\n",
       "      <td>0.000814</td>\n",
       "    </tr>\n",
       "    <tr>\n",
       "      <th>Desvio Padrão</th>\n",
       "      <td>8.213068e-08</td>\n",
       "      <td>0.098114</td>\n",
       "      <td>3.515221e-07</td>\n",
       "      <td>0.098237</td>\n",
       "    </tr>\n",
       "    <tr>\n",
       "      <th>Mínimo</th>\n",
       "      <td>-3.194235e-01</td>\n",
       "      <td>-0.000003</td>\n",
       "      <td>-3.409977e-01</td>\n",
       "      <td>-0.000010</td>\n",
       "    </tr>\n",
       "    <tr>\n",
       "      <th>25%</th>\n",
       "      <td>-7.280722e-02</td>\n",
       "      <td>0.000416</td>\n",
       "      <td>-7.347323e-02</td>\n",
       "      <td>0.000043</td>\n",
       "    </tr>\n",
       "    <tr>\n",
       "      <th>Mediana</th>\n",
       "      <td>-1.361203e-04</td>\n",
       "      <td>0.000508</td>\n",
       "      <td>-1.362534e-04</td>\n",
       "      <td>0.000136</td>\n",
       "    </tr>\n",
       "    <tr>\n",
       "      <th>75%</th>\n",
       "      <td>-8.052952e-05</td>\n",
       "      <td>0.072615</td>\n",
       "      <td>-4.345053e-05</td>\n",
       "      <td>0.073473</td>\n",
       "    </tr>\n",
       "    <tr>\n",
       "      <th>Máximo</th>\n",
       "      <td>1.888276e-06</td>\n",
       "      <td>0.347204</td>\n",
       "      <td>1.022112e-05</td>\n",
       "      <td>0.340998</td>\n",
       "    </tr>\n",
       "  </tbody>\n",
       "</table>\n",
       "</div>"
      ],
      "text/plain": [
       "                Mínimo_col1   Máximo_col1   Mínimo_col2   Máximo_col2\n",
       "Quantidade     1.489100e+04  14891.000000  1.489100e+04  14891.000000\n",
       "Média         -6.552916e-04      0.003802 -8.140885e-04      0.000814\n",
       "Desvio Padrão  8.213068e-08      0.098114  3.515221e-07      0.098237\n",
       "Mínimo        -3.194235e-01     -0.000003 -3.409977e-01     -0.000010\n",
       "25%           -7.280722e-02      0.000416 -7.347323e-02      0.000043\n",
       "Mediana       -1.361203e-04      0.000508 -1.362534e-04      0.000136\n",
       "75%           -8.052952e-05      0.072615 -4.345053e-05      0.073473\n",
       "Máximo         1.888276e-06      0.347204  1.022112e-05      0.340998"
      ]
     },
     "execution_count": 7,
     "metadata": {},
     "output_type": "execute_result"
    }
   ],
   "source": [
    "csv = pd.DataFrame()\n",
    "csv['Mínimo_col1'] = info_1.min()\n",
    "csv['Máximo_col1'] = info_1.max()\n",
    "csv['Mínimo_col2'] = info_2.min()\n",
    "csv['Máximo_col2'] = info_2.max()\n",
    "csv"
   ]
  },
  {
   "cell_type": "code",
   "execution_count": 8,
   "metadata": {},
   "outputs": [],
   "source": [
    "csv.to_csv('estatisticas SXSBBH1369.csv')"
   ]
  },
  {
   "cell_type": "code",
   "execution_count": null,
   "metadata": {},
   "outputs": [],
   "source": []
  }
 ],
 "metadata": {
  "kernelspec": {
   "display_name": "Python 2",
   "language": "python",
   "name": "python2"
  },
  "language_info": {
   "codemirror_mode": {
    "name": "ipython",
    "version": 2
   },
   "file_extension": ".py",
   "mimetype": "text/x-python",
   "name": "python",
   "nbconvert_exporter": "python",
   "pygments_lexer": "ipython2",
   "version": "2.7.15"
  }
 },
 "nbformat": 4,
 "nbformat_minor": 2
}
