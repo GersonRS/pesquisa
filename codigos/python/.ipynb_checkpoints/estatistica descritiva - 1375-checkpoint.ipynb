{
 "cells": [
  {
   "cell_type": "code",
   "execution_count": 1,
   "metadata": {},
   "outputs": [
    {
     "name": "stderr",
     "output_type": "stream",
     "text": [
      "C:\\Users\\Gerso\\Anaconda2\\lib\\site-packages\\h5py\\__init__.py:36: FutureWarning: Conversion of the second argument of issubdtype from `float` to `np.floating` is deprecated. In future, it will be treated as `np.float64 == np.dtype(float).type`.\n",
      "  from ._conv import register_converters as _register_converters\n"
     ]
    }
   ],
   "source": [
    "import pandas as pd\n",
    "import numpy as np\n",
    "import matplotlib.pyplot as plt\n",
    "import h5py"
   ]
  },
  {
   "cell_type": "code",
   "execution_count": 2,
   "metadata": {},
   "outputs": [],
   "source": [
    "f = h5py.File('simulation SXSBBH1375.h5', 'r')\n",
    "df = pd.DataFrame()"
   ]
  },
  {
   "cell_type": "code",
   "execution_count": 3,
   "metadata": {},
   "outputs": [],
   "source": [
    "for x in f.values():\n",
    "    dset = f[x.name].items()\n",
    "    data = pd.DataFrame(dset)\n",
    "    data = data.drop([38,61,64,1]).sort_values(0)\n",
    "    data.reset_index(drop = True, inplace = True)\n",
    "    names = data[0]\n",
    "    list = data[1]\n",
    "    for index, l in enumerate(list):\n",
    "        arr = np.zeros((19979,3), dtype='float64')\n",
    "        l.read_direct(arr)\n",
    "        list[index] = pd.DataFrame(arr).drop(0,axis=1).rename(index=str, columns={1: 'coluna_1', 2: 'coluna_2'})\n",
    "    data = data.rename(index=str, columns={1: x.name})\n",
    "    df[x.name] = data[x.name]"
   ]
  },
  {
   "cell_type": "code",
   "execution_count": 4,
   "metadata": {},
   "outputs": [],
   "source": [
    "describe = df.copy()\n",
    "for i in range(0,len(describe.columns)):\n",
    "    for j in range(0,len(describe[df.columns[i]])):\n",
    "        describe[df.columns[i]][j] = describe[df.columns[i]][j].describe().rename(\n",
    "            index={\n",
    "                'std': 'Desvio Padrão',\n",
    "                'mean': 'Média',\n",
    "                'count': 'Quantidade',\n",
    "                'min': 'Mínimo',\n",
    "                'max': 'Máximo',\n",
    "                '50%': 'Mediana'\n",
    "            })"
   ]
  },
  {
   "cell_type": "code",
   "execution_count": 5,
   "metadata": {},
   "outputs": [],
   "source": [
    "info_1 = pd.DataFrame()\n",
    "info_2 = pd.DataFrame()\n",
    "for a in describe[describe.columns[0]][0].index:\n",
    "    info_1[a] = 0\n",
    "    info_2[a] = 0"
   ]
  },
  {
   "cell_type": "code",
   "execution_count": 6,
   "metadata": {},
   "outputs": [],
   "source": [
    "for i in range(0,len(describe.columns)):\n",
    "    for j in range(0,len(describe[df.columns[i]])):\n",
    "        d_1 = pd.DataFrame(describe[describe.columns[i]][j]['coluna_1'])\n",
    "        d_1 = d_1.transpose()\n",
    "        d_1.reset_index(drop = True, inplace = True)\n",
    "        info_1 = info_1.append(d_1,ignore_index=True)\n",
    "        \n",
    "for i in range(0,len(describe.columns)):\n",
    "    for j in range(0,len(describe[df.columns[i]])):\n",
    "        d_2 = pd.DataFrame(describe[describe.columns[i]][j]['coluna_2'])\n",
    "        d_2 = d_2.transpose()\n",
    "        d_2.reset_index(drop = True, inplace = True)\n",
    "        info_2 = info_2.append(d_2,ignore_index=True)"
   ]
  },
  {
   "cell_type": "code",
   "execution_count": 11,
   "metadata": {},
   "outputs": [
    {
     "name": "stdout",
     "output_type": "stream",
     "text": [
      "Coluna 1\n"
     ]
    },
    {
     "data": {
      "text/html": [
       "<div>\n",
       "<style scoped>\n",
       "    .dataframe tbody tr th:only-of-type {\n",
       "        vertical-align: middle;\n",
       "    }\n",
       "\n",
       "    .dataframe tbody tr th {\n",
       "        vertical-align: top;\n",
       "    }\n",
       "\n",
       "    .dataframe thead th {\n",
       "        text-align: right;\n",
       "    }\n",
       "</style>\n",
       "<table border=\"1\" class=\"dataframe\">\n",
       "  <thead>\n",
       "    <tr style=\"text-align: right;\">\n",
       "      <th></th>\n",
       "      <th>Mínimo</th>\n",
       "      <th>Máximo</th>\n",
       "    </tr>\n",
       "  </thead>\n",
       "  <tbody>\n",
       "    <tr>\n",
       "      <th>Quantidade</th>\n",
       "      <td>1.997900e+04</td>\n",
       "      <td>19979.000000</td>\n",
       "    </tr>\n",
       "    <tr>\n",
       "      <th>Média</th>\n",
       "      <td>-2.524502e-04</td>\n",
       "      <td>0.003928</td>\n",
       "    </tr>\n",
       "    <tr>\n",
       "      <th>Desvio Padrão</th>\n",
       "      <td>1.096542e-07</td>\n",
       "      <td>0.038805</td>\n",
       "    </tr>\n",
       "    <tr>\n",
       "      <th>Mínimo</th>\n",
       "      <td>-1.230267e-01</td>\n",
       "      <td>-0.000003</td>\n",
       "    </tr>\n",
       "    <tr>\n",
       "      <th>25%</th>\n",
       "      <td>-3.247064e-02</td>\n",
       "      <td>0.000232</td>\n",
       "    </tr>\n",
       "    <tr>\n",
       "      <th>Mediana</th>\n",
       "      <td>-1.514998e-04</td>\n",
       "      <td>0.004053</td>\n",
       "    </tr>\n",
       "    <tr>\n",
       "      <th>75%</th>\n",
       "      <td>-2.976262e-08</td>\n",
       "      <td>0.032062</td>\n",
       "    </tr>\n",
       "    <tr>\n",
       "      <th>Máximo</th>\n",
       "      <td>1.785580e-06</td>\n",
       "      <td>0.133332</td>\n",
       "    </tr>\n",
       "  </tbody>\n",
       "</table>\n",
       "</div>"
      ],
      "text/plain": [
       "                     Mínimo        Máximo\n",
       "Quantidade     1.997900e+04  19979.000000\n",
       "Média         -2.524502e-04      0.003928\n",
       "Desvio Padrão  1.096542e-07      0.038805\n",
       "Mínimo        -1.230267e-01     -0.000003\n",
       "25%           -3.247064e-02      0.000232\n",
       "Mediana       -1.514998e-04      0.004053\n",
       "75%           -2.976262e-08      0.032062\n",
       "Máximo         1.785580e-06      0.133332"
      ]
     },
     "execution_count": 11,
     "metadata": {},
     "output_type": "execute_result"
    }
   ],
   "source": [
    "csv1 = pd.DataFrame()\n",
    "csv1['Mínimo'] = info_1.min()\n",
    "csv1['Máximo'] = info_1.max()\n",
    "print \"Coluna 1\"\n",
    "csv1"
   ]
  },
  {
   "cell_type": "code",
   "execution_count": 12,
   "metadata": {},
   "outputs": [
    {
     "name": "stdout",
     "output_type": "stream",
     "text": [
      "Coluna 2\n"
     ]
    },
    {
     "data": {
      "text/html": [
       "<div>\n",
       "<style scoped>\n",
       "    .dataframe tbody tr th:only-of-type {\n",
       "        vertical-align: middle;\n",
       "    }\n",
       "\n",
       "    .dataframe tbody tr th {\n",
       "        vertical-align: top;\n",
       "    }\n",
       "\n",
       "    .dataframe thead th {\n",
       "        text-align: right;\n",
       "    }\n",
       "</style>\n",
       "<table border=\"1\" class=\"dataframe\">\n",
       "  <thead>\n",
       "    <tr style=\"text-align: right;\">\n",
       "      <th></th>\n",
       "      <th>Mínimo</th>\n",
       "      <th>Máximo</th>\n",
       "    </tr>\n",
       "  </thead>\n",
       "  <tbody>\n",
       "    <tr>\n",
       "      <th>Quantidade</th>\n",
       "      <td>1.997900e+04</td>\n",
       "      <td>1.997900e+04</td>\n",
       "    </tr>\n",
       "    <tr>\n",
       "      <th>Média</th>\n",
       "      <td>-2.400330e-04</td>\n",
       "      <td>2.400090e-04</td>\n",
       "    </tr>\n",
       "    <tr>\n",
       "      <th>Desvio Padrão</th>\n",
       "      <td>1.337923e-07</td>\n",
       "      <td>3.880210e-02</td>\n",
       "    </tr>\n",
       "    <tr>\n",
       "      <th>Mínimo</th>\n",
       "      <td>-1.360112e-01</td>\n",
       "      <td>-3.631336e-06</td>\n",
       "    </tr>\n",
       "    <tr>\n",
       "      <th>25%</th>\n",
       "      <td>-3.238906e-02</td>\n",
       "      <td>3.354190e-09</td>\n",
       "    </tr>\n",
       "    <tr>\n",
       "      <th>Mediana</th>\n",
       "      <td>-1.813169e-04</td>\n",
       "      <td>1.821262e-04</td>\n",
       "    </tr>\n",
       "    <tr>\n",
       "      <th>75%</th>\n",
       "      <td>-1.361991e-06</td>\n",
       "      <td>3.238686e-02</td>\n",
       "    </tr>\n",
       "    <tr>\n",
       "      <th>Máximo</th>\n",
       "      <td>3.381590e-06</td>\n",
       "      <td>1.359994e-01</td>\n",
       "    </tr>\n",
       "  </tbody>\n",
       "</table>\n",
       "</div>"
      ],
      "text/plain": [
       "                     Mínimo        Máximo\n",
       "Quantidade     1.997900e+04  1.997900e+04\n",
       "Média         -2.400330e-04  2.400090e-04\n",
       "Desvio Padrão  1.337923e-07  3.880210e-02\n",
       "Mínimo        -1.360112e-01 -3.631336e-06\n",
       "25%           -3.238906e-02  3.354190e-09\n",
       "Mediana       -1.813169e-04  1.821262e-04\n",
       "75%           -1.361991e-06  3.238686e-02\n",
       "Máximo         3.381590e-06  1.359994e-01"
      ]
     },
     "execution_count": 12,
     "metadata": {},
     "output_type": "execute_result"
    }
   ],
   "source": [
    "csv2 = pd.DataFrame()\n",
    "csv2['Mínimo'] = info_2.min()\n",
    "csv2['Máximo'] = info_2.max()\n",
    "print \"Coluna 2\"\n",
    "csv2"
   ]
  },
  {
   "cell_type": "code",
   "execution_count": null,
   "metadata": {},
   "outputs": [],
   "source": []
  }
 ],
 "metadata": {
  "kernelspec": {
   "display_name": "Python 2",
   "language": "python",
   "name": "python2"
  },
  "language_info": {
   "codemirror_mode": {
    "name": "ipython",
    "version": 2
   },
   "file_extension": ".py",
   "mimetype": "text/x-python",
   "name": "python",
   "nbconvert_exporter": "python",
   "pygments_lexer": "ipython2",
   "version": "2.7.15"
  }
 },
 "nbformat": 4,
 "nbformat_minor": 2
}
