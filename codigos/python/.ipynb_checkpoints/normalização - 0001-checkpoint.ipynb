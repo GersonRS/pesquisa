{
 "cells": [
  {
   "cell_type": "code",
   "execution_count": 9,
   "metadata": {},
   "outputs": [],
   "source": [
    "import pandas as pd\n",
    "import numpy as np\n",
    "import h5py\n",
    "import matplotlib.pyplot as plt"
   ]
  },
  {
   "cell_type": "code",
   "execution_count": 2,
   "metadata": {},
   "outputs": [],
   "source": [
    "def window(iterable, size=8192):\n",
    "    i = iter(iterable)\n",
    "    win = []\n",
    "    for e in range(0, size):\n",
    "        win.append(next(i))\n",
    "    yield win\n",
    "    for e in i:\n",
    "        win = win[1:] + [e]\n",
    "        yield win"
   ]
  },
  {
   "cell_type": "code",
   "execution_count": 3,
   "metadata": {},
   "outputs": [],
   "source": [
    "def get_data(f):\n",
    "    df = pd.DataFrame()\n",
    "    for x in f.values():\n",
    "        dset = f[x.name].items()\n",
    "        data = pd.DataFrame(dset)\n",
    "        data = data.drop([0,1,2,3]).sort_values(0)\n",
    "        data.reset_index(drop = True, inplace = True)\n",
    "        list = data[1]\n",
    "        for index, l in enumerate(list):\n",
    "            arr = np.zeros((27421,3), dtype='float64')\n",
    "            l.read_direct(arr)\n",
    "            norm = pd.DataFrame(arr).drop(0,axis=1).rename(index=str, columns={1: 'coluna_1', 2: 'coluna_2'})\n",
    "            norm['coluna_1'] = norm['coluna_1'].div(norm['coluna_1'].max())\n",
    "            norm['coluna_2'] = norm['coluna_2'].div(norm['coluna_2'].max())\n",
    "            list[index] = norm\n",
    "        data = data.rename(index=str, columns={1: x.name})\n",
    "        df[x.name] = data[x.name]\n",
    "    noise = df.copy()\n",
    "    for i in range(0,len(df.columns)):\n",
    "        for j in range(0,len(df[df.columns[i]])):\n",
    "            df[df.columns[i]][j].reset_index(drop = True, inplace = True)\n",
    "            noise[noise.columns[i]][j] = pd.DataFrame(0.5*((np.random.rand(len(df[df.columns[i]][j]),2)*2)-1),columns=['coluna_1','coluna_2'])\n",
    "            df[df.columns[i]][j] = df[df.columns[i]][j].add(noise[noise.columns[i]][j])\n",
    "    return df, noise"
   ]
  },
  {
   "cell_type": "code",
   "execution_count": 5,
   "metadata": {},
   "outputs": [],
   "source": [
    "path = 'rh_FiniteRadii_CodeUnits'\n",
    "f = h5py.File('../dados/'+path+'.h5', 'r')"
   ]
  },
  {
   "cell_type": "code",
   "execution_count": 6,
   "metadata": {},
   "outputs": [],
   "source": [
    "df,noise = get_data(f)"
   ]
  },
  {
   "cell_type": "code",
   "execution_count": 10,
   "metadata": {},
   "outputs": [
    {
     "data": {
      "text/plain": [
       "<matplotlib.axes._subplots.AxesSubplot at 0x7f01fb9c0450>"
      ]
     },
     "execution_count": 10,
     "metadata": {},
     "output_type": "execute_result"
    },
    {
     "data": {
      "image/png": "[encoded data removed]",
      "text/plain": [
       "<Figure size 432x288 with 1 Axes>"
      ]
     },
     "metadata": {
      "needs_background": "light"
     },
     "output_type": "display_data"
    }
   ],
   "source": [
    "df['/R0100.dir'][0]['coluna_1'].plot()"
   ]
  },
  {
   "cell_type": "code",
   "execution_count": 6,
   "metadata": {},
   "outputs": [],
   "source": [
    "dados = pd.DataFrame(list( window( df['/R0100.dir'][0]['coluna_1'].values, 8192 ) ))"
   ]
  },
  {
   "cell_type": "code",
   "execution_count": 7,
   "metadata": {},
   "outputs": [],
   "source": [
    "ruidos = pd.DataFrame(list( window( noise['/R0100.dir'][0]['coluna_1'].values, 8192 ) ))"
   ]
  },
  {
   "cell_type": "code",
   "execution_count": 8,
   "metadata": {},
   "outputs": [],
   "source": [
    "dds = dados[len(dados)-(len(dados)/8):]"
   ]
  },
  {
   "cell_type": "code",
   "execution_count": 9,
   "metadata": {},
   "outputs": [],
   "source": [
    "rds = ruidos[len(dados)-(len(dados)/8):]"
   ]
  },
  {
   "cell_type": "code",
   "execution_count": 10,
   "metadata": {},
   "outputs": [],
   "source": [
    "x = pd.DataFrame(np.ones((len(dds),2)), dtype=int, columns=['A','B'])\n",
    "zeros = pd.DataFrame(np.zeros(len(dds), dtype=int))\n",
    "x['B'] = zeros[0]"
   ]
  },
  {
   "cell_type": "code",
   "execution_count": 11,
   "metadata": {},
   "outputs": [],
   "source": [
    "y = pd.DataFrame(np.zeros((len(rds),2)), dtype=int, columns=['A','B'])\n",
    "ones = pd.DataFrame(np.ones(len(rds), dtype=int))\n",
    "y['B'] = ones[0]"
   ]
  },
  {
   "cell_type": "code",
   "execution_count": 12,
   "metadata": {},
   "outputs": [],
   "source": [
    "dataframe = dds.append(rds,ignore_index=True)"
   ]
  },
  {
   "cell_type": "code",
   "execution_count": 13,
   "metadata": {},
   "outputs": [],
   "source": [
    "target = x.append(y,ignore_index=True)"
   ]
  },
  {
   "cell_type": "code",
   "execution_count": 14,
   "metadata": {},
   "outputs": [],
   "source": [
    "dataframe.to_csv('dados 0001.csv')"
   ]
  },
  {
   "cell_type": "code",
   "execution_count": 15,
   "metadata": {},
   "outputs": [],
   "source": [
    "target.to_csv('target 0001.csv')"
   ]
  },
  {
   "cell_type": "code",
   "execution_count": null,
   "metadata": {},
   "outputs": [],
   "source": []
  }
 ],
 "metadata": {
  "kernelspec": {
   "display_name": "Python 2",
   "language": "python",
   "name": "python2"
  },
  "language_info": {
   "codemirror_mode": {
    "name": "ipython",
    "version": 2
   },
   "file_extension": ".py",
   "mimetype": "text/x-python",
   "name": "python",
   "nbconvert_exporter": "python",
   "pygments_lexer": "ipython2",
   "version": "2.7.15"
  }
 },
 "nbformat": 4,
 "nbformat_minor": 2
}
