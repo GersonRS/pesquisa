{
 "cells": [
  {
   "cell_type": "code",
   "execution_count": 1,
   "metadata": {},
   "outputs": [
    {
     "name": "stderr",
     "output_type": "stream",
     "text": [
      "C:\\Users\\Gerso\\Anaconda2\\lib\\site-packages\\h5py\\__init__.py:36: FutureWarning: Conversion of the second argument of issubdtype from `float` to `np.floating` is deprecated. In future, it will be treated as `np.float64 == np.dtype(float).type`.\n",
      "  from ._conv import register_converters as _register_converters\n"
     ]
    }
   ],
   "source": [
    "import pandas as pd\n",
    "import numpy as np\n",
    "import matplotlib.pyplot as plt\n",
    "import h5py"
   ]
  },
  {
   "cell_type": "code",
   "execution_count": 2,
   "metadata": {},
   "outputs": [],
   "source": [
    "f = h5py.File('simulation SXSBBH0001.h5', 'r')\n",
    "df = pd.DataFrame()"
   ]
  },
  {
   "cell_type": "code",
   "execution_count": 3,
   "metadata": {},
   "outputs": [],
   "source": [
    "for x in f.values():\n",
    "    dset = f[x.name].items()\n",
    "    data = pd.DataFrame(dset)\n",
    "    data = data.drop([0,1,2,3]).sort_values(0)\n",
    "    data.reset_index(drop = True, inplace = True)\n",
    "    list = data[1]\n",
    "    for index, l in enumerate(list):\n",
    "        arr = np.zeros((27421,3), dtype='float64')\n",
    "        l.read_direct(arr)\n",
    "        list[index] = pd.DataFrame(arr).drop(0,axis=1).rename(index=str, columns={1: 'coluna_1', 2: 'coluna_2'})\n",
    "    data = data.rename(index=str, columns={1: x.name})\n",
    "    df[x.name] = data[x.name]"
   ]
  },
  {
   "cell_type": "code",
   "execution_count": 4,
   "metadata": {},
   "outputs": [],
   "source": [
    "describe = df.copy()\n",
    "for i in range(0,len(describe.columns)):\n",
    "    for j in range(0,len(describe[df.columns[i]])):\n",
    "        describe[df.columns[i]][j] = describe[df.columns[i]][j].describe().rename(\n",
    "            index={\n",
    "                'std': 'Desvio Padrão',\n",
    "                'mean': 'Média',\n",
    "                'count': 'Quantidade',\n",
    "                'min': 'Mínimo',\n",
    "                'max': 'Máximo',\n",
    "                '50%': 'Mediana'\n",
    "            })"
   ]
  },
  {
   "cell_type": "code",
   "execution_count": 5,
   "metadata": {},
   "outputs": [],
   "source": [
    "info_1 = pd.DataFrame()\n",
    "info_2 = pd.DataFrame()\n",
    "for a in describe[describe.columns[0]][0].index:\n",
    "    info_1[a] = 0\n",
    "    info_2[a] = 0"
   ]
  },
  {
   "cell_type": "code",
   "execution_count": 6,
   "metadata": {},
   "outputs": [],
   "source": [
    "for i in range(0,len(describe.columns)):\n",
    "    for j in range(0,len(describe[df.columns[i]])):\n",
    "        d_1 = pd.DataFrame(describe[describe.columns[i]][j]['coluna_1'])\n",
    "        d_1 = d_1.transpose()\n",
    "        d_1.reset_index(drop = True, inplace = True)\n",
    "        info_1 = info_1.append(d_1,ignore_index=True)\n",
    "        \n",
    "for i in range(0,len(describe.columns)):\n",
    "    for j in range(0,len(describe[df.columns[i]])):\n",
    "        d_2 = pd.DataFrame(describe[describe.columns[i]][j]['coluna_2'])\n",
    "        d_2 = d_2.transpose()\n",
    "        d_2.reset_index(drop = True, inplace = True)\n",
    "        info_2 = info_2.append(d_2,ignore_index=True)"
   ]
  },
  {
   "cell_type": "code",
   "execution_count": 7,
   "metadata": {},
   "outputs": [
    {
     "data": {
      "text/html": [
       "<div>\n",
       "<style scoped>\n",
       "    .dataframe tbody tr th:only-of-type {\n",
       "        vertical-align: middle;\n",
       "    }\n",
       "\n",
       "    .dataframe tbody tr th {\n",
       "        vertical-align: top;\n",
       "    }\n",
       "\n",
       "    .dataframe thead th {\n",
       "        text-align: right;\n",
       "    }\n",
       "</style>\n",
       "<table border=\"1\" class=\"dataframe\">\n",
       "  <thead>\n",
       "    <tr style=\"text-align: right;\">\n",
       "      <th></th>\n",
       "      <th>Mínimo_col1</th>\n",
       "      <th>Máximo_col1</th>\n",
       "      <th>Mínimo_col2</th>\n",
       "      <th>Máximo_col2</th>\n",
       "    </tr>\n",
       "  </thead>\n",
       "  <tbody>\n",
       "    <tr>\n",
       "      <th>Quantidade</th>\n",
       "      <td>2.742100e+04</td>\n",
       "      <td>2.742100e+04</td>\n",
       "      <td>2.742100e+04</td>\n",
       "      <td>2.742100e+04</td>\n",
       "    </tr>\n",
       "    <tr>\n",
       "      <th>Média</th>\n",
       "      <td>-5.274834e-04</td>\n",
       "      <td>1.513880e-02</td>\n",
       "      <td>-6.341565e-04</td>\n",
       "      <td>6.341565e-04</td>\n",
       "    </tr>\n",
       "    <tr>\n",
       "      <th>Desvio Padrão</th>\n",
       "      <td>6.323387e-10</td>\n",
       "      <td>8.649945e-02</td>\n",
       "      <td>1.498584e-10</td>\n",
       "      <td>8.647853e-02</td>\n",
       "    </tr>\n",
       "    <tr>\n",
       "      <th>Mínimo</th>\n",
       "      <td>-3.914227e-01</td>\n",
       "      <td>-1.155775e-08</td>\n",
       "      <td>-3.938190e-01</td>\n",
       "      <td>-3.147250e-09</td>\n",
       "    </tr>\n",
       "    <tr>\n",
       "      <th>25%</th>\n",
       "      <td>-6.372184e-02</td>\n",
       "      <td>7.771624e-04</td>\n",
       "      <td>-6.346942e-02</td>\n",
       "      <td>3.321014e-06</td>\n",
       "    </tr>\n",
       "    <tr>\n",
       "      <th>Mediana</th>\n",
       "      <td>-3.130564e-04</td>\n",
       "      <td>1.709176e-02</td>\n",
       "      <td>-3.419371e-04</td>\n",
       "      <td>3.419371e-04</td>\n",
       "    </tr>\n",
       "    <tr>\n",
       "      <th>75%</th>\n",
       "      <td>2.754732e-13</td>\n",
       "      <td>6.283963e-02</td>\n",
       "      <td>-3.303115e-09</td>\n",
       "      <td>6.346942e-02</td>\n",
       "    </tr>\n",
       "    <tr>\n",
       "      <th>Máximo</th>\n",
       "      <td>9.457396e-09</td>\n",
       "      <td>3.770870e-01</td>\n",
       "      <td>2.842626e-09</td>\n",
       "      <td>3.938190e-01</td>\n",
       "    </tr>\n",
       "  </tbody>\n",
       "</table>\n",
       "</div>"
      ],
      "text/plain": [
       "                Mínimo_col1   Máximo_col1   Mínimo_col2   Máximo_col2\n",
       "Quantidade     2.742100e+04  2.742100e+04  2.742100e+04  2.742100e+04\n",
       "Média         -5.274834e-04  1.513880e-02 -6.341565e-04  6.341565e-04\n",
       "Desvio Padrão  6.323387e-10  8.649945e-02  1.498584e-10  8.647853e-02\n",
       "Mínimo        -3.914227e-01 -1.155775e-08 -3.938190e-01 -3.147250e-09\n",
       "25%           -6.372184e-02  7.771624e-04 -6.346942e-02  3.321014e-06\n",
       "Mediana       -3.130564e-04  1.709176e-02 -3.419371e-04  3.419371e-04\n",
       "75%            2.754732e-13  6.283963e-02 -3.303115e-09  6.346942e-02\n",
       "Máximo         9.457396e-09  3.770870e-01  2.842626e-09  3.938190e-01"
      ]
     },
     "execution_count": 7,
     "metadata": {},
     "output_type": "execute_result"
    }
   ],
   "source": [
    "csv = pd.DataFrame()\n",
    "csv['Mínimo_col1'] = info_1.min()\n",
    "csv['Máximo_col1'] = info_1.max()\n",
    "csv['Mínimo_col2'] = info_2.min()\n",
    "csv['Máximo_col2'] = info_2.max()\n",
    "csv"
   ]
  },
  {
   "cell_type": "code",
   "execution_count": 8,
   "metadata": {},
   "outputs": [],
   "source": [
    "csv.to_csv('estatisticas SXSBBH0001.csv')"
   ]
  },
  {
   "cell_type": "code",
   "execution_count": null,
   "metadata": {},
   "outputs": [],
   "source": []
  }
 ],
 "metadata": {
  "kernelspec": {
   "display_name": "Python 2",
   "language": "python",
   "name": "python2"
  },
  "language_info": {
   "codemirror_mode": {
    "name": "ipython",
    "version": 2
   },
   "file_extension": ".py",
   "mimetype": "text/x-python",
   "name": "python",
   "nbconvert_exporter": "python",
   "pygments_lexer": "ipython2",
   "version": "2.7.15"
  }
 },
 "nbformat": 4,
 "nbformat_minor": 2
}
