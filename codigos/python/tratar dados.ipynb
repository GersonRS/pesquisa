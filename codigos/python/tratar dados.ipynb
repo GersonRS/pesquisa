{
 "cells": [
  {
   "cell_type": "code",
   "execution_count": 1,
   "metadata": {},
   "outputs": [],
   "source": [
    "import numpy as np\n",
    "import h5py\n",
    "import requests\n",
    "import os.path\n",
    "import shutil\n",
    "import matplotlib.pyplot as plt"
   ]
  },
  {
   "cell_type": "code",
   "execution_count": 2,
   "metadata": {},
   "outputs": [],
   "source": [
    "def slidingWindow(sequence,winSize=8192,step=1):\n",
    "    \"\"\"Returns a generator that will iterate through\n",
    "    the defined chunks of input sequence.  Input sequence\n",
    "    must be iterable.\"\"\"\n",
    " \n",
    "    # Verify the inputs\n",
    "    try: it = iter(sequence)\n",
    "    except TypeError:\n",
    "        raise Exception(\"**ERROR** sequence must be iterable.\")\n",
    "    if not ((type(winSize) == type(0)) and (type(step) == type(0))):\n",
    "        raise Exception(\"**ERROR** type(winSize) and type(step) must be int.\")\n",
    "    if step > winSize:\n",
    "        raise Exception(\"**ERROR** step must not be larger than winSize.\")\n",
    "    if winSize > len(sequence):\n",
    "        raise Exception(\"**ERROR** winSize must not be larger than sequence length.\")\n",
    " \n",
    "    # Pre-compute number of chunks to emit\n",
    "    numOfChunks = ((len(sequence)-winSize)/step)+1\n",
    " \n",
    "    # Do the work\n",
    "    for i in range(0,numOfChunks*step,step):\n",
    "        yield sequence[i:i+winSize]"
   ]
  },
  {
   "cell_type": "code",
   "execution_count": 3,
   "metadata": {},
   "outputs": [],
   "source": [
    "def getData(f, noise=0.1):\n",
    "    df = []\n",
    "    ruido = []\n",
    "    for x in f.values():\n",
    "        dset = f[x.name].items()\n",
    "        dnoise = f[x.name].items()\n",
    "        del dset[0:4]\n",
    "        del ruido[0:4]\n",
    "        for index, data in enumerate(dset):\n",
    "            arr = np.zeros(data[1].shape, dtype='float64')\n",
    "            data[1].read_direct(arr)\n",
    "            temp = []\n",
    "            for i in arr:\n",
    "                temp.append(i[1])\n",
    "            #norm = ((temp-min(temp))/(max(temp)-min(temp))*2)-1\n",
    "            norm = map(lambda x: x+(noise*((np.random.rand()*2)-1)), temp/max(temp))\n",
    "            dnoise[index] = map(lambda x: x, (noise*((np.random.rand(len(temp))*2)-1)))\n",
    "            dset[index] = norm\n",
    "         \n",
    "        df.append(dset)\n",
    "        ruido.append(dnoise)   \n",
    "    return df,ruido"
   ]
  },
  {
   "cell_type": "code",
   "execution_count": 4,
   "metadata": {},
   "outputs": [
    {
     "ename": "TypeError",
     "evalue": "cannot concatenate 'str' and 'int' objects",
     "output_type": "error",
     "traceback": [
      "\u001b[0;31m---------------------------------------------------------------------------\u001b[0m",
      "\u001b[0;31mTypeError\u001b[0m                                 Traceback (most recent call last)",
      "\u001b[0;32m<ipython-input-4-6f5a2c3df9d7>\u001b[0m in \u001b[0;36m<module>\u001b[0;34m()\u001b[0m\n\u001b[1;32m      8\u001b[0m \u001b[0;34m\u001b[0m\u001b[0m\n\u001b[1;32m      9\u001b[0m \u001b[0;32mfor\u001b[0m \u001b[0mu\u001b[0m \u001b[0;32min\u001b[0m \u001b[0mrange\u001b[0m\u001b[0;34m(\u001b[0m\u001b[0mlen\u001b[0m\u001b[0;34m(\u001b[0m\u001b[0murls\u001b[0m\u001b[0;34m)\u001b[0m\u001b[0;34m)\u001b[0m\u001b[0;34m:\u001b[0m\u001b[0;34m\u001b[0m\u001b[0m\n\u001b[0;32m---> 10\u001b[0;31m     \u001b[0;32mif\u001b[0m \u001b[0;34m(\u001b[0m\u001b[0;32mnot\u001b[0m \u001b[0mos\u001b[0m\u001b[0;34m.\u001b[0m\u001b[0mpath\u001b[0m\u001b[0;34m.\u001b[0m\u001b[0mexists\u001b[0m\u001b[0;34m(\u001b[0m\u001b[0;34m'dados/'\u001b[0m \u001b[0;34m+\u001b[0m \u001b[0mpath\u001b[0m \u001b[0;34m+\u001b[0m\u001b[0;34m''\u001b[0m\u001b[0;34m+\u001b[0m \u001b[0mu\u001b[0m \u001b[0;34m+\u001b[0m\u001b[0;34m'.h5'\u001b[0m\u001b[0;34m)\u001b[0m\u001b[0;34m)\u001b[0m\u001b[0;34m:\u001b[0m\u001b[0;34m\u001b[0m\u001b[0m\n\u001b[0m\u001b[1;32m     11\u001b[0m         \u001b[0mresponse\u001b[0m \u001b[0;34m=\u001b[0m \u001b[0mrequests\u001b[0m\u001b[0;34m.\u001b[0m\u001b[0mget\u001b[0m\u001b[0;34m(\u001b[0m\u001b[0murls\u001b[0m\u001b[0;34m[\u001b[0m\u001b[0mu\u001b[0m\u001b[0;34m]\u001b[0m\u001b[0;34m,\u001b[0m \u001b[0mstream\u001b[0m\u001b[0;34m=\u001b[0m\u001b[0mTrue\u001b[0m\u001b[0;34m)\u001b[0m\u001b[0;34m\u001b[0m\u001b[0m\n\u001b[1;32m     12\u001b[0m         \u001b[0;32mif\u001b[0m \u001b[0mresponse\u001b[0m\u001b[0;34m.\u001b[0m\u001b[0mstatus_code\u001b[0m \u001b[0;34m==\u001b[0m \u001b[0;36m200\u001b[0m\u001b[0;34m:\u001b[0m\u001b[0;34m\u001b[0m\u001b[0m\n",
      "\u001b[0;31mTypeError\u001b[0m: cannot concatenate 'str' and 'int' objects"
     ]
    }
   ],
   "source": [
    "urls = ['https://data.black-holes.org/waveforms/data/SXS:BBH:1361/Lev3/rh_FiniteRadii_CodeUnits.h5',\n",
    "        'https://data.black-holes.org/waveforms/data/SXS:BBH:0112/Lev5/rh_FiniteRadii_CodeUnits.h5',\n",
    "        'https://data.black-holes.org/waveforms/data/SXS:BBH:0302/Lev5/rh_FiniteRadii_CodeUnits.h5']\n",
    "\n",
    "path = 'rh_FiniteRadii_CodeUnits'\n",
    "\n",
    "data = []\n",
    "\n",
    "for u in range(len(urls)):\n",
    "    if (not os.path.exists('dados/' + path +''+ u +'.h5')):\n",
    "        response = requests.get(urls[u], stream=True)\n",
    "        if response.status_code == 200:\n",
    "            with open('dados/' + path +''+ u +'.h5', 'wb') as f:\n",
    "                shutil.copyfileobj(response.raw, f)\n",
    "    else:\n",
    "        print('arquivo já existe')\n",
    "\n",
    "    f = h5py.File('dados/' + path +''+ u +'.h5', 'r')\n",
    "    df, noise = getData(f)\n",
    "    f.close()\n",
    "    tudo = []\n",
    "    for i in range(len(df)):\n",
    "        for k in range(len(df[i])):\n",
    "            dados = list(slidingWindow(df[i][k], step=8192))\n",
    "            ruidos = list(slidingWindow(noise[i][k], step=8192))\n",
    "            all = dados + ruidos\n",
    "            tudo = tudo + all\n",
    "\n",
    "    data = data + tudo\n",
    "\n",
    "print(len(data))"
   ]
  }
 ],
 "metadata": {
  "kernelspec": {
   "display_name": "Python 2",
   "language": "python",
   "name": "python2"
  },
  "language_info": {
   "codemirror_mode": {
    "name": "ipython",
    "version": 2
   },
   "file_extension": ".py",
   "mimetype": "text/x-python",
   "name": "python",
   "nbconvert_exporter": "python",
   "pygments_lexer": "ipython2",
   "version": "2.7.15"
  }
 },
 "nbformat": 4,
 "nbformat_minor": 2
}
